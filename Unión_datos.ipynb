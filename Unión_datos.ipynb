{
 "cells": [
  {
   "cell_type": "code",
   "execution_count": 5,
   "metadata": {},
   "outputs": [],
   "source": [
    "import pandas as pd\n",
    "import numpy as np\n",
    "import matplotlib.pyplot as plt"
   ]
  },
  {
   "cell_type": "code",
   "execution_count": 6,
   "metadata": {},
   "outputs": [],
   "source": [
    "paises = pd.read_csv('paises_covid.csv')\n",
    "temps = pd.read_csv('Data_Actualizado_2020-04-19.csv')\n",
    "gdp = pd.read_excel('GDP_PC_2018.xlsx')\n",
    "che = pd.read_excel('GHED_CHE_pc_US_SHA2011.xlsx')"
   ]
  },
  {
   "cell_type": "code",
   "execution_count": 7,
   "metadata": {},
   "outputs": [
    {
     "data": {
      "text/plain": [
       "['CountryName',\n",
       " 'CapitalName',\n",
       " 'CapitalLatitude',\n",
       " 'CapitalLongitude',\n",
       " 'CountryCode',\n",
       " 'ContinentName',\n",
       " '2020-04-19_temp',\n",
       " '2020-04-19_feels_like',\n",
       " '2020-04-19_temp_min',\n",
       " '2020-04-19_temp_max',\n",
       " '2020-04-19_pressure(hPa)',\n",
       " '2020-04-19_humidity(%)']"
      ]
     },
     "execution_count": 7,
     "metadata": {},
     "output_type": "execute_result"
    }
   ],
   "source": [
    "temps.columns.values.tolist()"
   ]
  },
  {
   "cell_type": "code",
   "execution_count": 8,
   "metadata": {},
   "outputs": [],
   "source": [
    "temp = []\n",
    "for i in paises.iloc[:,0]:\n",
    "    prov = temps[temps['CountryName'] == i]\n",
    "    if prov.iloc[:,6].values.tolist() == []:\n",
    "        temp.append([np.nan])\n",
    "    else:\n",
    "        temp.append(prov.iloc[:,6].values.tolist())\n",
    "temp = np.concatenate(temp).tolist()"
   ]
  },
  {
   "cell_type": "code",
   "execution_count": 9,
   "metadata": {},
   "outputs": [],
   "source": [
    "fl = []\n",
    "for i in paises.iloc[:,0]:\n",
    "    prov = temps[temps['CountryName'] == i]\n",
    "    if prov.iloc[:,7].values.tolist() == []:\n",
    "        fl.append([np.nan])\n",
    "    else:\n",
    "        fl.append(prov.iloc[:,7].values.tolist())\n",
    "fl = np.concatenate(fl).tolist()"
   ]
  },
  {
   "cell_type": "code",
   "execution_count": 10,
   "metadata": {},
   "outputs": [],
   "source": [
    "t_min = []\n",
    "for i in paises.iloc[:,0]:\n",
    "    prov = temps[temps['CountryName'] == i]\n",
    "    if prov.iloc[:,8].values.tolist() == []:\n",
    "        t_min.append([np.nan])\n",
    "    else:\n",
    "        t_min.append(prov.iloc[:,8].values.tolist())\n",
    "t_min = np.concatenate(t_min).tolist()"
   ]
  },
  {
   "cell_type": "code",
   "execution_count": 11,
   "metadata": {},
   "outputs": [],
   "source": [
    "t_max = []\n",
    "for i in paises.iloc[:,0]:\n",
    "    prov = temps[temps['CountryName'] == i]\n",
    "    if prov.iloc[:,9].values.tolist() == []:\n",
    "        t_max.append([np.nan])\n",
    "    else:\n",
    "        t_max.append(prov.iloc[:,9].values.tolist())\n",
    "t_max = np.concatenate(t_max).tolist()"
   ]
  },
  {
   "cell_type": "code",
   "execution_count": 12,
   "metadata": {},
   "outputs": [],
   "source": [
    "press = []\n",
    "for i in paises.iloc[:,0]:\n",
    "    prov = temps[temps['CountryName'] == i]\n",
    "    if prov.iloc[:,10].values.tolist() == []:\n",
    "        press.append([np.nan])\n",
    "    else:\n",
    "        press.append(prov.iloc[:,10].values.tolist())\n",
    "press = np.concatenate(press).tolist()"
   ]
  },
  {
   "cell_type": "code",
   "execution_count": 13,
   "metadata": {},
   "outputs": [],
   "source": [
    "humi = []\n",
    "for i in paises.iloc[:,0]:\n",
    "    prov = temps[temps['CountryName'] == i]\n",
    "    if prov.iloc[:,11].values.tolist() == []:\n",
    "        humi.append([np.nan])\n",
    "    else:\n",
    "        humi.append(prov.iloc[:,11].values.tolist())\n",
    "humi = np.concatenate(humi).tolist()"
   ]
  },
  {
   "cell_type": "code",
   "execution_count": 14,
   "metadata": {},
   "outputs": [],
   "source": [
    "#gdp.iloc[:,3].values.tolist()\n",
    "per_capita = []\n",
    "for i in paises.iloc[:,0]:\n",
    "    prov = gdp[gdp['Country Name'] == i]\n",
    "    if prov.iloc[:,3].values.tolist() == []:\n",
    "        per_capita.append([np.nan])\n",
    "    else:\n",
    "        per_capita.append(prov.iloc[:,3].values.tolist())\n",
    "per_capita = np.concatenate(per_capita).tolist()"
   ]
  },
  {
   "cell_type": "code",
   "execution_count": 15,
   "metadata": {},
   "outputs": [
    {
     "data": {
      "text/plain": [
       "[11312.4399293599,\n",
       " 520.896602719135,\n",
       " 5268.84850355919,\n",
       " 4114.71506136896,\n",
       " 42029.7627372989,\n",
       " 3432.38573600893,\n",
       " nan,\n",
       " 16726.9808079479,\n",
       " 11683.9496216363,\n",
       " 4212.07094272937,\n",
       " nan,\n",
       " 57373.6866841281,\n",
       " 51461.9547804677,\n",
       " 4721.17808673142,\n",
       " nan,\n",
       " 24050.7575053956,\n",
       " 1698.26280233547,\n",
       " 17949.2815054371,\n",
       " 6289.93855308212,\n",
       " 47518.6360388914,\n",
       " 4884.74242133376,\n",
       " 901.543871206357,\n",
       " nan,\n",
       " 3243.23112508014,\n",
       " 3548.59013979338,\n",
       " nan,\n",
       " 6065.67270824158,\n",
       " 8258.64166574691,\n",
       " 8920.76210462979,\n",
       " nan,\n",
       " nan,\n",
       " 9272.62930360848,\n",
       " 715.12290404614,\n",
       " 271.752044376648,\n",
       " 1510.3248705764,\n",
       " 1533.74213975885,\n",
       " 46232.9896226967,\n",
       " nan,\n",
       " nan,\n",
       " 475.721250544318,\n",
       " 728.343235359289,\n",
       " 15923.3587375381,\n",
       " 9770.84708783314,\n",
       " 6667.7906995498,\n",
       " nan,\n",
       " 12027.3658826316,\n",
       " 1715.53133212649,\n",
       " 14909.6931860854,\n",
       " 8821.81889125004,\n",
       " 19567.8924351055,\n",
       " 28159.3016999455,\n",
       " 23078.5734865691,\n",
       " nan,\n",
       " 61350.3479093986,\n",
       " 3082.54309871957,\n",
       " 7691.34509727878,\n",
       " 8050.63160184635,\n",
       " 6344.87197850057,\n",
       " nan,\n",
       " 4058.25243928118,\n",
       " 10261.7600116887,\n",
       " nan,\n",
       " 23266.3462718751,\n",
       " 772.313530261357,\n",
       " nan,\n",
       " nan,\n",
       " 6266.96796528074,\n",
       " 50152.3401411303,\n",
       " 41463.6440227034,\n",
       " nan,\n",
       " 7952.52589277651,\n",
       " nan,\n",
       " 4717.14302573577,\n",
       " 47603.0276328757,\n",
       " 2202.31216442504,\n",
       " nan,\n",
       " 20324.2535641478,\n",
       " nan,\n",
       " 10640.496760331,\n",
       " 35712.5621350321,\n",
       " 4549.01008110721,\n",
       " nan,\n",
       " 878.599613250501,\n",
       " 777.969921802522,\n",
       " 4979.00218839886,\n",
       " 868.34202469407,\n",
       " 2500.11321286023,\n",
       " 16161.9805101918,\n",
       " 73191.1163154337,\n",
       " 2009.97885727039,\n",
       " 3893.59607757239,\n",
       " nan,\n",
       " nan,\n",
       " 5834.16621076061,\n",
       " 78806.431996268,\n",
       " nan,\n",
       " 41715.0292840432,\n",
       " 34483.2039992043,\n",
       " 5354.2368587703,\n",
       " 39289.9584346358,\n",
       " nan,\n",
       " 4241.78878213854,\n",
       " 9812.60113654067,\n",
       " 1710.51009699405,\n",
       " 4302.27648252378,\n",
       " 33994.4065667831,\n",
       " nan,\n",
       " nan,\n",
       " 17860.6171980214,\n",
       " 8269.78767551923,\n",
       " 677.322178545364,\n",
       " 7241.70448113024,\n",
       " nan,\n",
       " 19153.4089860651,\n",
       " 116639.88804711,\n",
       " nan,\n",
       " 527.501285041282,\n",
       " 389.398033178836,\n",
       " 11373.2330025676,\n",
       " 10330.615614094,\n",
       " 899.659908096615,\n",
       " 30098.2833099975,\n",
       " 1188.83458753973,\n",
       " 11238.6903948961,\n",
       " 9673.44367360619,\n",
       " 3227.3121916043,\n",
       " 185741.279991587,\n",
       " 4121.73243469391,\n",
       " 8844.23698538056,\n",
       " nan,\n",
       " 3237.88336815666,\n",
       " 498.957220208652,\n",
       " 1325.9529237064,\n",
       " 5931.45388611617,\n",
       " 1033.91243082634,\n",
       " 53024.0592130531,\n",
       " nan,\n",
       " 41945.3316690932,\n",
       " 2028.89475539369,\n",
       " 413.980304962089,\n",
       " 2028.18197017598,\n",
       " 23258.6758552794,\n",
       " 81697.2459836768,\n",
       " 16415.1572780989,\n",
       " 1482.40306306798,\n",
       " nan,\n",
       " 15575.0725482915,\n",
       " 2730.27479935873,\n",
       " 5821.81432292324,\n",
       " 6941.23584763012,\n",
       " 3102.71336329931,\n",
       " 15420.9111634295,\n",
       " 23407.9065887968,\n",
       " 31651.3481514031,\n",
       " 68793.7844372614,\n",
       " 12301.1864034302,\n",
       " nan,\n",
       " 772.944459929187,\n",
       " nan,\n",
       " nan,\n",
       " nan,\n",
       " nan,\n",
       " 2001.14090226164,\n",
       " 23338.9634580718,\n",
       " 1521.95355421391,\n",
       " 7246.73165586437,\n",
       " 16433.9352865158,\n",
       " 533.991184258936,\n",
       " 64581.9440183954,\n",
       " nan,\n",
       " nan,\n",
       " 26123.9738694646,\n",
       " 314.544165670763,\n",
       " 6374.02819575944,\n",
       " nan,\n",
       " nan,\n",
       " 30370.8923252247,\n",
       " 4102.48135014467,\n",
       " 977.273635724417,\n",
       " 6234.04492230646,\n",
       " nan,\n",
       " 54608.3602546906,\n",
       " 82796.5471631285,\n",
       " nan,\n",
       " nan,\n",
       " 1050.67525379846,\n",
       " 7273.56320732092,\n",
       " nan,\n",
       " 679.257083602874,\n",
       " 17129.9130902577,\n",
       " 3447.50790975551,\n",
       " 9370.1763438282,\n",
       " 27142.2277976902,\n",
       " 642.776744292007,\n",
       " 3095.17358053586,\n",
       " 43004.9533584848,\n",
       " 42943.9022698053,\n",
       " 62794.5856522398,\n",
       " nan,\n",
       " 17277.9701105496,\n",
       " 1532.37167679684,\n",
       " nan,\n",
       " nan,\n",
       " 2566.59694958511,\n",
       " 944.408499373419,\n",
       " 1539.90015779907,\n",
       " 2146.99638487707]"
      ]
     },
     "execution_count": 15,
     "metadata": {},
     "output_type": "execute_result"
    }
   ],
   "source": [
    "per_capita"
   ]
  },
  {
   "cell_type": "code",
   "execution_count": 16,
   "metadata": {},
   "outputs": [],
   "source": [
    "#che.iloc[:,1]\n",
    "che_capita = []\n",
    "for i in paises.iloc[:,0]:\n",
    "    prov = che[che['Country'] == i]\n",
    "    if prov.iloc[:,1].values.tolist() == []:\n",
    "        che_capita.append([np.nan])\n",
    "    else:\n",
    "        che_capita.append(prov.iloc[:,1].values.tolist())\n",
    "che_capita = np.concatenate(che_capita).tolist()"
   ]
  },
  {
   "cell_type": "code",
   "execution_count": 17,
   "metadata": {},
   "outputs": [],
   "source": [
    "data_final = pd.DataFrame()\n",
    "data_final['Location'] = paises.iloc[:,0].values.tolist()\n",
    "data_final['Temperature'] = temp\n",
    "data_final['Feels_Like'] = fl\n",
    "data_final['Min_Temperature'] = t_min\n",
    "data_final['Max_Temperature'] = t_max\n",
    "data_final['Pressure(PHa)'] = press\n",
    "data_final['Humimdity'] = humi\n",
    "data_final['GDP_PC_2018'] = per_capita\n",
    "data_final['CHE_PC_2017'] = che_capita"
   ]
  },
  {
   "cell_type": "code",
   "execution_count": 18,
   "metadata": {},
   "outputs": [],
   "source": [
    "data_final.to_csv('data_e_e_19_abril.csv', index=None)\n",
    "#data_final.to_excel('data_e_e_4_abril.xlsx', index=None)"
   ]
  },
  {
   "cell_type": "code",
   "execution_count": 19,
   "metadata": {},
   "outputs": [
    {
     "data": {
      "text/plain": [
       "(207, 9)"
      ]
     },
     "execution_count": 19,
     "metadata": {},
     "output_type": "execute_result"
    }
   ],
   "source": [
    "data_final.shape"
   ]
  },
  {
   "cell_type": "code",
   "execution_count": null,
   "metadata": {},
   "outputs": [],
   "source": []
  }
 ],
 "metadata": {
  "kernelspec": {
   "display_name": "Python 3",
   "language": "python",
   "name": "python3"
  },
  "language_info": {
   "codemirror_mode": {
    "name": "ipython",
    "version": 3
   },
   "file_extension": ".py",
   "mimetype": "text/x-python",
   "name": "python",
   "nbconvert_exporter": "python",
   "pygments_lexer": "ipython3",
   "version": "3.7.6"
  }
 },
 "nbformat": 4,
 "nbformat_minor": 2
}
