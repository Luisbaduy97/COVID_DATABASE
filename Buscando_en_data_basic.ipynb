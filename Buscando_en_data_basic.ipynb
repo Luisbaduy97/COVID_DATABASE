{
 "cells": [
  {
   "cell_type": "code",
   "execution_count": 12,
   "metadata": {},
   "outputs": [],
   "source": [
    "import pandas as pd\n",
    "import numpy as np"
   ]
  },
  {
   "cell_type": "code",
   "execution_count": 16,
   "metadata": {},
   "outputs": [],
   "source": [
    "temps = pd.read_csv('data_basic.csv', encoding='ANSI')\n",
    "paises = pd.read_csv('paises_covid.csv')"
   ]
  },
  {
   "cell_type": "code",
   "execution_count": 22,
   "metadata": {},
   "outputs": [],
   "source": [
    "temp = [] #population\n",
    "for i in paises.iloc[:,0]:\n",
    "    prov = temps[temps['location'] == i]\n",
    "    if prov.iloc[:,1].values.tolist() == []:\n",
    "        temp.append([np.nan])\n",
    "    else:\n",
    "        temp.append(prov.iloc[:,1].values.tolist())\n",
    "temp = np.concatenate(temp).tolist()"
   ]
  },
  {
   "cell_type": "code",
   "execution_count": 33,
   "metadata": {},
   "outputs": [
    {
     "data": {
      "text/plain": [
       "['location',\n",
       " 'Population',\n",
       " 'Urban population',\n",
       " 'Density  (P/Km²) ',\n",
       " 'Median age',\n",
       " 'Migrants (net) ']"
      ]
     },
     "execution_count": 33,
     "metadata": {},
     "output_type": "execute_result"
    }
   ],
   "source": [
    "temps.columns.values.tolist()"
   ]
  },
  {
   "cell_type": "code",
   "execution_count": 28,
   "metadata": {},
   "outputs": [],
   "source": [
    "urban = [] #urban population\n",
    "for i in paises.iloc[:,0]:\n",
    "    prov = temps[temps['location'] == i]\n",
    "    if prov.iloc[:,2].values.tolist() == []:\n",
    "        urban.append([np.nan])\n",
    "    else:\n",
    "        urban.append(prov.iloc[:,2].values.tolist())\n",
    "urban = np.concatenate(urban).tolist()"
   ]
  },
  {
   "cell_type": "code",
   "execution_count": 32,
   "metadata": {},
   "outputs": [],
   "source": [
    "dens = [] #Density  (P/Km²) \n",
    "for i in paises.iloc[:,0]:\n",
    "    prov = temps[temps['location'] == i]\n",
    "    if prov.iloc[:,3].values.tolist() == []:\n",
    "        dens.append([np.nan])\n",
    "    else:\n",
    "        dens.append(prov.iloc[:,3].values.tolist())\n",
    "dens = np.concatenate(dens).tolist()"
   ]
  },
  {
   "cell_type": "code",
   "execution_count": 34,
   "metadata": {},
   "outputs": [],
   "source": [
    "med = [] #median age \n",
    "for i in paises.iloc[:,0]:\n",
    "    prov = temps[temps['location'] == i]\n",
    "    if prov.iloc[:,4].values.tolist() == []:\n",
    "        med.append([np.nan])\n",
    "    else:\n",
    "        med.append(prov.iloc[:,4].values.tolist())\n",
    "med = np.concatenate(med).tolist()"
   ]
  },
  {
   "cell_type": "code",
   "execution_count": 36,
   "metadata": {},
   "outputs": [],
   "source": [
    "mig = [] #migrants\n",
    "for i in paises.iloc[:,0]:\n",
    "    prov = temps[temps['location'] == i]\n",
    "    if prov.iloc[:,5].values.tolist() == []:\n",
    "        mig.append([np.nan])\n",
    "    else:\n",
    "        mig.append(prov.iloc[:,5].values.tolist())\n",
    "mig = np.concatenate(mig).tolist()"
   ]
  },
  {
   "cell_type": "code",
   "execution_count": 38,
   "metadata": {},
   "outputs": [],
   "source": [
    "data_final = pd.DataFrame()\n",
    "data_final['Location'] = paises.iloc[:,0].values.tolist()\n",
    "data_final['Population'] = temp\n",
    "data_final['Urban population'] = urban\n",
    "data_final['Density'] = dens\n",
    "data_final['Median age'] = med\n",
    "data_final['Migrants'] = mig"
   ]
  },
  {
   "cell_type": "code",
   "execution_count": 40,
   "metadata": {},
   "outputs": [],
   "source": [
    "data_final.to_csv('data_basic_final.csv', index = None)"
   ]
  },
  {
   "cell_type": "code",
   "execution_count": null,
   "metadata": {},
   "outputs": [],
   "source": []
  }
 ],
 "metadata": {
  "kernelspec": {
   "display_name": "Python 3",
   "language": "python",
   "name": "python3"
  },
  "language_info": {
   "codemirror_mode": {
    "name": "ipython",
    "version": 3
   },
   "file_extension": ".py",
   "mimetype": "text/x-python",
   "name": "python",
   "nbconvert_exporter": "python",
   "pygments_lexer": "ipython3",
   "version": "3.7.6"
  }
 },
 "nbformat": 4,
 "nbformat_minor": 2
}
