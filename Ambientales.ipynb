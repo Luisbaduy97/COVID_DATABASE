{
 "cells": [
  {
   "cell_type": "code",
   "execution_count": 1,
   "metadata": {},
   "outputs": [],
   "source": [
    "import pandas as pd\n",
    "import requests, json\n",
    "import time\n",
    "from datetime import date"
   ]
  },
  {
   "cell_type": "code",
   "execution_count": 2,
   "metadata": {},
   "outputs": [],
   "source": [
    "today1 = date.today()\n",
    "today = str(today1) + '_'\n",
    "tt = str(today1)"
   ]
  },
  {
   "cell_type": "code",
   "execution_count": 3,
   "metadata": {},
   "outputs": [],
   "source": [
    "data = pd.read_csv('concap.csv')\n",
    "api_key = \"53f0b53a4cdcc603abb4d171cee777a1\"\n",
    "lista = []\n",
    "cols_extra = ['temp', 'feels_like', 'temp_min', 'temp_max', 'pressure(hPa)', 'humidity(%)']\n",
    "cols = ['Pais', 'Ciudad'] + cols_extra\n",
    "hoy = [today + v for v in cols_extra]\n",
    "# base_url variable to store url\n",
    "for i in range(len(data)):\n",
    "    pais = data['CountryName'][i]\n",
    "    ciudad = data['CapitalName'][i]\n",
    "    lat = str(data['CapitalLatitude'][i]) \n",
    "    lon = str(data['CapitalLongitude'][i])\n",
    "    base_url = 'http://api.openweathermap.org/data/2.5/weather?lat={}&lon={}&appid={}'.format(lat, lon, api_key)\n",
    "    response = requests.get(base_url) \n",
    "    # json method of response object  \n",
    "    # convert json format data into \n",
    "    # python format data \n",
    "    x = response.json()\n",
    "    x2 = x['main']\n",
    "    temp = x2['temp'] - 273.15\n",
    "    feels = x2['feels_like'] - 273.15\n",
    "    mini = x2['temp_min'] - 273.15\n",
    "    maxi = x2['temp_max'] - 273.15\n",
    "    press = x2['pressure']\n",
    "    hum = x2['humidity']\n",
    "    l2 = [temp, feels, mini, maxi, press, hum]\n",
    "    lista.append(l2)\n",
    "    #print(l2)\n",
    "    time.sleep(1.5)\n",
    "d2 = pd.DataFrame(data=lista, columns=hoy)\n",
    "for j in range(len(hoy)):\n",
    "    data[hoy[j]] = d2[hoy[j]]\n",
    "cont = 'Data_Actualizado_' + tt + '.csv'\n",
    "data.to_csv(cont, index = None)"
   ]
  },
  {
   "cell_type": "code",
   "execution_count": null,
   "metadata": {},
   "outputs": [],
   "source": []
  }
 ],
 "metadata": {
  "kernelspec": {
   "display_name": "Python 3",
   "language": "python",
   "name": "python3"
  },
  "language_info": {
   "codemirror_mode": {
    "name": "ipython",
    "version": 3
   },
   "file_extension": ".py",
   "mimetype": "text/x-python",
   "name": "python",
   "nbconvert_exporter": "python",
   "pygments_lexer": "ipython3",
   "version": "3.7.6"
  }
 },
 "nbformat": 4,
 "nbformat_minor": 2
}
